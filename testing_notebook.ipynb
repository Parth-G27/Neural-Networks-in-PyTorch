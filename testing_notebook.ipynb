{
 "cells": [
  {
   "cell_type": "code",
   "execution_count": 9,
   "metadata": {},
   "outputs": [],
   "source": [
    "class pokemon :\n",
    "\n",
    "    def __init__(self,nameofpokemon,pokemonID):\n",
    "        self.name = nameofpokemon\n",
    "        self.ID = pokemonID\n",
    "\n",
    "    def ShownameAndID(self):\n",
    "        print(f\"Pokemon Name : {self.name} | Pokemon ID : {self.ID}\")\n",
    "    "
   ]
  },
  {
   "cell_type": "code",
   "execution_count": 12,
   "metadata": {},
   "outputs": [
    {
     "name": "stdout",
     "output_type": "stream",
     "text": [
      "Pokemon Name : pikachu | Pokemon ID : 34\n"
     ]
    }
   ],
   "source": [
    "obj1 = pokemon(\"pikachu\",34)\n",
    "obj1.ShownameAndID()\n"
   ]
  },
  {
   "cell_type": "code",
   "execution_count": 13,
   "metadata": {},
   "outputs": [
    {
     "name": "stdout",
     "output_type": "stream",
     "text": [
      "A init called\n",
      "B init called\n"
     ]
    }
   ],
   "source": [
    "# Python program to\n",
    "# demonstrate init with\n",
    "# inheritance\n",
    "\n",
    "class A(object):\n",
    "\tdef __init__(self, something):\n",
    "\t\tprint(\"A init called\")\n",
    "\t\tself.something = something\n",
    "\n",
    "\n",
    "class B(A):\n",
    "\tdef __init__(self, something):\n",
    "\t\t# Calling init of parent class\n",
    "\t\tA.__init__(self, something)\n",
    "\t\tprint(\"B init called\")\n",
    "\t\tself.something = something\n",
    "\n",
    "\n",
    "obj = B(\"POGO\")\n"
   ]
  },
  {
   "cell_type": "code",
   "execution_count": null,
   "metadata": {},
   "outputs": [],
   "source": []
  }
 ],
 "metadata": {
  "kernelspec": {
   "display_name": "PyTorchWork",
   "language": "python",
   "name": "pytorchwork"
  },
  "language_info": {
   "codemirror_mode": {
    "name": "ipython",
    "version": 3
   },
   "file_extension": ".py",
   "mimetype": "text/x-python",
   "name": "python",
   "nbconvert_exporter": "python",
   "pygments_lexer": "ipython3",
   "version": "3.9.0"
  }
 },
 "nbformat": 4,
 "nbformat_minor": 2
}
