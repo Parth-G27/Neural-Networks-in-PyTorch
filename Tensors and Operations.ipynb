{
 "cells": [
  {
   "cell_type": "markdown",
   "metadata": {},
   "source": [
    "## Tensors & Operations"
   ]
  },
  {
   "cell_type": "code",
   "execution_count": 2,
   "metadata": {},
   "outputs": [],
   "source": [
    "import torch"
   ]
  },
  {
   "cell_type": "code",
   "execution_count": 15,
   "metadata": {},
   "outputs": [
    {
     "data": {
      "text/plain": [
       "(tensor([4, 5, 9]),\n",
       " tensor([[3, 4, 7],\n",
       "         [9, 8, 3],\n",
       "         [1, 9, 7]]),\n",
       " 1,\n",
       " <function Tensor.dim>)"
      ]
     },
     "execution_count": 15,
     "metadata": {},
     "output_type": "execute_result"
    }
   ],
   "source": [
    "# 1-D tensor \n",
    "a = torch.tensor([4,5,9])\n",
    "# 2-D tensor\n",
    "b = torch.tensor([[3,4,7],\n",
    "                  [9,8,3],\n",
    "                  [1,9,7]])\n",
    "a,b"
   ]
  },
  {
   "cell_type": "code",
   "execution_count": 4,
   "metadata": {},
   "outputs": [
    {
     "name": "stdout",
     "output_type": "stream",
     "text": [
      "torch.Size([3]) torch.Size([3, 3])\n",
      "torch.Size([3]) torch.Size([3, 3])\n"
     ]
    }
   ],
   "source": [
    "# Shape is an attribute & size is a method \n",
    "print(a.shape,b.shape)\n",
    "print(a.size(),b.size())"
   ]
  },
  {
   "cell_type": "code",
   "execution_count": 5,
   "metadata": {},
   "outputs": [
    {
     "name": "stdout",
     "output_type": "stream",
     "text": [
      "tensor([[2., 3., 7.],\n",
      "        [9., 4., 2.]])\n",
      "torch.float32\n",
      "tensor([[2., 5., 6.],\n",
      "        [2., 8., 7.]], dtype=torch.float64)\n",
      "torch.float64\n"
     ]
    }
   ],
   "source": [
    "# In datatype Float & Double\n",
    "c = torch.FloatTensor([[2,3,7,],\n",
    "                       [9,4,2]])\n",
    "d = torch.DoubleTensor([[2,5,6],\n",
    "                        [2,8,7]])\n",
    "print(c)\n",
    "print(c.dtype)\n",
    "print(d)\n",
    "print(d.dtype)"
   ]
  },
  {
   "cell_type": "code",
   "execution_count": 6,
   "metadata": {},
   "outputs": [
    {
     "name": "stdout",
     "output_type": "stream",
     "text": [
      "tensor(4.5000) tensor(2.5298, dtype=torch.float64)\n"
     ]
    }
   ],
   "source": [
    "print(c.mean(),d.std())"
   ]
  },
  {
   "cell_type": "markdown",
   "metadata": {},
   "source": [
    "### Note: If one of the dimensions is -1, its size can be inferred\n"
   ]
  },
  {
   "cell_type": "code",
   "execution_count": 14,
   "metadata": {},
   "outputs": [
    {
     "name": "stdout",
     "output_type": "stream",
     "text": [
      "tensor([[3],\n",
      "        [4],\n",
      "        [7],\n",
      "        [9],\n",
      "        [8],\n",
      "        [3],\n",
      "        [1],\n",
      "        [9],\n",
      "        [7]])\n",
      "tensor([[3, 4, 7, 9, 8, 3, 1, 9, 7]])\n",
      "torch.Size([1, 9])\n",
      "2\n"
     ]
    }
   ],
   "source": [
    "# Reshaping \n",
    "print(b.view(-1,1))\n",
    "\n",
    "#Assign b a new shape\n",
    "b = b.view(1,-1)\n",
    "print(b)\n",
    "print(b.shape)\n",
    "print(b.ndim)"
   ]
  },
  {
   "cell_type": "code",
   "execution_count": 16,
   "metadata": {},
   "outputs": [
    {
     "name": "stdout",
     "output_type": "stream",
     "text": [
      "\n",
      "\n",
      "tensor([[[-1.8433, -1.3058, -0.0469,  2.3978],\n",
      "         [-0.7416, -0.4729, -0.0194, -0.3682],\n",
      "         [ 1.2781, -0.6163,  0.3273, -0.4469]],\n",
      "\n",
      "        [[-0.1188, -0.1055, -0.3077, -0.1975],\n",
      "         [-0.0951,  0.3180,  1.0694,  0.4305],\n",
      "         [ 0.4786, -1.5276,  0.3150, -1.1165]]])\n",
      "tensor([[-1.8433, -1.3058, -0.0469,  2.3978, -0.7416, -0.4729, -0.0194, -0.3682,\n",
      "          1.2781, -0.6163,  0.3273, -0.4469],\n",
      "        [-0.1188, -0.1055, -0.3077, -0.1975, -0.0951,  0.3180,  1.0694,  0.4305,\n",
      "          0.4786, -1.5276,  0.3150, -1.1165]])\n",
      "tensor([[-1.8433, -1.3058, -0.0469,  2.3978, -0.7416, -0.4729, -0.0194, -0.3682,\n",
      "          1.2781, -0.6163,  0.3273, -0.4469],\n",
      "        [-0.1188, -0.1055, -0.3077, -0.1975, -0.0951,  0.3180,  1.0694,  0.4305,\n",
      "          0.4786, -1.5276,  0.3150, -1.1165]])\n"
     ]
    }
   ],
   "source": [
    "#Create a 3D Tensor with 2 channels, 3 rows and 4 columns (channles,rows,columns)\n",
    "three_dim = torch.randn(2, 3, 4)\n",
    "print('\\n')\n",
    "print(three_dim)\n",
    "print(three_dim.view(2, 12))  # Reshape to 2 rows, 12 columns\n",
    "print(three_dim.view(2, -1))"
   ]
  },
  {
   "cell_type": "code",
   "execution_count": 17,
   "metadata": {},
   "outputs": [
    {
     "name": "stdout",
     "output_type": "stream",
     "text": [
      "tensor([[0.6981, 0.1912, 0.4956, 0.2238],\n",
      "        [0.1177, 0.9082, 0.1635, 0.3205],\n",
      "        [0.9464, 0.9518, 0.8818, 0.0728],\n",
      "        [0.1879, 0.7500, 0.1389, 0.2384]])\n"
     ]
    }
   ],
   "source": [
    "#Create a matrix with random numbers between 0 and 1\n",
    "r = torch.rand(4,4)\n",
    "print(r)"
   ]
  },
  {
   "cell_type": "code",
   "execution_count": 18,
   "metadata": {},
   "outputs": [
    {
     "name": "stdout",
     "output_type": "stream",
     "text": [
      "tensor([[7, 8, 6],\n",
      "        [9, 8, 8],\n",
      "        [8, 6, 9]])\n"
     ]
    }
   ],
   "source": [
    "#Create a 2-D array (or matrix) of size 3x3 filled with random integers from values between 6 and 9 (exlusive of 10)\n",
    "in_array2 = torch.randint(6,10, (3,3))\n",
    "print(in_array2)"
   ]
  },
  {
   "cell_type": "code",
   "execution_count": 19,
   "metadata": {},
   "outputs": [
    {
     "name": "stdout",
     "output_type": "stream",
     "text": [
      "9\n"
     ]
    }
   ],
   "source": [
    "#Get the number of elemetns in in_array\n",
    "print(torch.numel(in_array2))"
   ]
  },
  {
   "cell_type": "markdown",
   "metadata": {},
   "source": [
    "## Numpy Bridge"
   ]
  },
  {
   "cell_type": "code",
   "execution_count": null,
   "metadata": {},
   "outputs": [],
   "source": []
  }
 ],
 "metadata": {
  "kernelspec": {
   "display_name": "PyTorchWork",
   "language": "python",
   "name": "pytorchwork"
  },
  "language_info": {
   "codemirror_mode": {
    "name": "ipython",
    "version": 3
   },
   "file_extension": ".py",
   "mimetype": "text/x-python",
   "name": "python",
   "nbconvert_exporter": "python",
   "pygments_lexer": "ipython3",
   "version": "3.9.0"
  }
 },
 "nbformat": 4,
 "nbformat_minor": 2
}
