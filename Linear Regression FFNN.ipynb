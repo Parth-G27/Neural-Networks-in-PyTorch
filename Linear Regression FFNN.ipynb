{
 "cells": [
  {
   "cell_type": "code",
   "execution_count": 195,
   "metadata": {},
   "outputs": [],
   "source": [
    "import torch \n",
    "import torch.nn as nn \n",
    "import numpy as np\n",
    "import pandas as pd  \n",
    "import matplotlib.pyplot as plt "
   ]
  },
  {
   "cell_type": "code",
   "execution_count": 196,
   "metadata": {},
   "outputs": [],
   "source": [
    "# y = m(x)  + c \n",
    "\n",
    "m = 0.6 \n",
    "c = 14\n",
    "\n",
    "X = torch.arange(start=-100,end=100,step=2).unsqueeze(dim=1)\n",
    "X = X.float()\n",
    "\n",
    "y = X*m + c\n"
   ]
  },
  {
   "cell_type": "code",
   "execution_count": 197,
   "metadata": {},
   "outputs": [
    {
     "data": {
      "text/plain": [
       "torch.Size([100, 1])"
      ]
     },
     "execution_count": 197,
     "metadata": {},
     "output_type": "execute_result"
    }
   ],
   "source": [
    "X.shape"
   ]
  },
  {
   "cell_type": "code",
   "execution_count": 198,
   "metadata": {},
   "outputs": [
    {
     "data": {
      "text/plain": [
       "(20, 80)"
      ]
     },
     "execution_count": 198,
     "metadata": {},
     "output_type": "execute_result"
    }
   ],
   "source": [
    "X_train = X[:int(0.8*(len(X)))]\n",
    "y_train = y[:int(0.8*(len(X)))]\n",
    "X_test = X[int(0.8*(len(X))):]\n",
    "y_test = y[int(0.8*(len(X))):]\n",
    "len(X_test),len(y_train)"
   ]
  },
  {
   "cell_type": "code",
   "execution_count": 199,
   "metadata": {},
   "outputs": [
    {
     "data": {
      "image/png": "[encoded data removed]",
      "text/plain": [
       "<Figure size 640x480 with 1 Axes>"
      ]
     },
     "metadata": {},
     "output_type": "display_data"
    }
   ],
   "source": [
    "plt.scatter(X_train,y_train,s=2,c='b')\n",
    "plt.scatter(X_test,y_test,s=2,c='g')\n",
    "# plt.plot([-100,100],[0,0],c='black')\n",
    "# plt.plot([0,0],[y.max(),y.min()],c='black')\n",
    "\n",
    "plt.show()"
   ]
  },
  {
   "cell_type": "code",
   "execution_count": 200,
   "metadata": {},
   "outputs": [],
   "source": [
    "class Model(nn.Module):\n",
    "    \"\"\"Some Information about MyModule\"\"\"\n",
    "    def __init__(self):\n",
    "        super(Model, self).__init__()\n",
    "        self.LinearLayer = nn.Linear(in_features=1,out_features=1)\n",
    "\n",
    "    def forward(self, x:torch.Tensor)->torch.Tensor:\n",
    "        out = self.LinearLayer(x)\n",
    "\n",
    "        return out "
   ]
  },
  {
   "cell_type": "code",
   "execution_count": 201,
   "metadata": {},
   "outputs": [
    {
     "data": {
      "text/plain": [
       "(Model(\n",
       "   (LinearLayer): Linear(in_features=1, out_features=1, bias=True)\n",
       " ),\n",
       " OrderedDict([('LinearLayer.weight', tensor([[0.7645]])),\n",
       "              ('LinearLayer.bias', tensor([0.8300]))]))"
      ]
     },
     "execution_count": 201,
     "metadata": {},
     "output_type": "execute_result"
    }
   ],
   "source": [
    "torch.manual_seed(42)\n",
    "\n",
    "model = Model()\n",
    "model,model.state_dict()"
   ]
  },
  {
   "cell_type": "code",
   "execution_count": 202,
   "metadata": {},
   "outputs": [],
   "source": [
    "loss_fn = nn.L1Loss()\n",
    "optimizer = torch.optim.SGD(params=model.parameters(),\n",
    "                            lr=0.01)"
   ]
  },
  {
   "cell_type": "code",
   "execution_count": 203,
   "metadata": {},
   "outputs": [
    {
     "data": {
      "text/plain": [
       "torch.Size([80, 1])"
      ]
     },
     "execution_count": 203,
     "metadata": {},
     "output_type": "execute_result"
    }
   ],
   "source": [
    "X_train.shape"
   ]
  },
  {
   "cell_type": "code",
   "execution_count": 204,
   "metadata": {},
   "outputs": [
    {
     "name": "stdout",
     "output_type": "stream",
     "text": [
      "epoch :0 | loss : 16.62529945373535 | test loss : 16.751447677612305\n",
      "epoch :10 | loss : 11.179636001586914 | test loss : 12.847188949584961\n",
      "epoch :20 | loss : 10.622865676879883 | test loss : 14.27418327331543\n",
      "epoch :30 | loss : 10.920186996459961 | test loss : 13.134176254272461\n",
      "epoch :40 | loss : 10.59786319732666 | test loss : 14.32416820526123\n",
      "epoch :50 | loss : 10.582253456115723 | test loss : 13.14466667175293\n",
      "epoch :60 | loss : 10.547221183776855 | test loss : 13.07091236114502\n",
      "epoch :70 | loss : 10.512189865112305 | test loss : 12.997164726257324\n",
      "epoch :80 | loss : 10.477158546447754 | test loss : 12.92341423034668\n",
      "epoch :90 | loss : 10.442127227783203 | test loss : 12.849665641784668\n",
      "epoch :100 | loss : 10.40735912322998 | test loss : 11.630661010742188\n",
      "epoch :110 | loss : 9.950157165527344 | test loss : 14.676902770996094\n",
      "epoch :120 | loss : 11.517024040222168 | test loss : 9.943641662597656\n",
      "epoch :130 | loss : 9.87297248840332 | test loss : 13.266385078430176\n",
      "epoch :140 | loss : 11.086091995239258 | test loss : 9.678133010864258\n",
      "epoch :150 | loss : 9.55872917175293 | test loss : 14.541125297546387\n",
      "epoch :160 | loss : 11.262402534484863 | test loss : 9.215617179870605\n",
      "epoch :170 | loss : 9.437882423400879 | test loss : 14.197359085083008\n",
      "epoch :180 | loss : 11.142492294311523 | test loss : 8.871854782104492\n",
      "epoch :190 | loss : 9.317036628723145 | test loss : 13.853597640991211\n",
      "epoch :200 | loss : 11.02258014678955 | test loss : 8.528093338012695\n"
     ]
    }
   ],
   "source": [
    "torch.manual_seed(42)\n",
    "\n",
    "epochs = 200\n",
    "\n",
    "for epoch in range(epochs+1):\n",
    "    y_preds = model(X_train)\n",
    "    loss = loss_fn(y_preds,y_train)\n",
    "    optimizer.zero_grad()\n",
    "    loss.backward()\n",
    "    optimizer.step()\n",
    "\n",
    "    model.eval()\n",
    "    with torch.inference_mode():\n",
    "        test_pred = model(X_test)\n",
    "\n",
    "        test_loss = loss_fn(test_pred,y_test)\n",
    "\n",
    "        if epoch % 10 == 0:\n",
    "            print(f\"epoch :{epoch } | loss : {loss} | test loss : {test_loss}\")"
   ]
  },
  {
   "cell_type": "code",
   "execution_count": 205,
   "metadata": {},
   "outputs": [],
   "source": [
    "with torch.inference_mode():\n",
    "        test_pred_new = model(X_test)"
   ]
  },
  {
   "cell_type": "code",
   "execution_count": 206,
   "metadata": {},
   "outputs": [
    {
     "data": {
      "image/png": "[encoded data removed]",
      "text/plain": [
       "<Figure size 640x480 with 1 Axes>"
      ]
     },
     "metadata": {},
     "output_type": "display_data"
    }
   ],
   "source": [
    "plt.scatter(X_train,y_train,s=2,c='b')\n",
    "plt.scatter(X_test,y_test,s=2,c='g')\n",
    "plt.scatter(X_test,test_pred_new,s=2,c='red')\n",
    "# plt.plot([-100,100],[0,0],c='black')\n",
    "# plt.plot([0,0],[y.max(),y.min()],c='black')\n",
    "\n",
    "plt.show()"
   ]
  },
  {
   "cell_type": "code",
   "execution_count": null,
   "metadata": {},
   "outputs": [],
   "source": []
  }
 ],
 "metadata": {
  "kernelspec": {
   "display_name": "PyTorchWork",
   "language": "python",
   "name": "pytorchwork"
  },
  "language_info": {
   "codemirror_mode": {
    "name": "ipython",
    "version": 3
   },
   "file_extension": ".py",
   "mimetype": "text/x-python",
   "name": "python",
   "nbconvert_exporter": "python",
   "pygments_lexer": "ipython3",
   "version": "3.9.0"
  }
 },
 "nbformat": 4,
 "nbformat_minor": 2
}
