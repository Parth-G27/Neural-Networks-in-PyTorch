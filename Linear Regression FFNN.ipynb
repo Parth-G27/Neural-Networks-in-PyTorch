{
 "cells": [
  {
   "cell_type": "code",
   "execution_count": 202,
   "metadata": {},
   "outputs": [],
   "source": [
    "import torch \n",
    "import torch.nn as nn \n",
    "import numpy as np\n",
    "import pandas as pd  \n",
    "import matplotlib.pyplot as plt "
   ]
  },
  {
   "cell_type": "code",
   "execution_count": 203,
   "metadata": {},
   "outputs": [],
   "source": [
    "# y = m(x)  + c \n",
    "\n",
    "m = 0.6 \n",
    "c = 14\n",
    "\n",
    "#X = torch.randint(low=-100,high=100,size=(80,1))\n",
    "\n",
    "X = torch.arange(start=-100,end=100,step=2).unsqueeze(dim=1)\n",
    "X = X.float()\n",
    "\n",
    "y = X*m + c\n"
   ]
  },
  {
   "cell_type": "code",
   "execution_count": 204,
   "metadata": {},
   "outputs": [
    {
     "data": {
      "text/plain": [
       "torch.Size([100, 1])"
      ]
     },
     "execution_count": 204,
     "metadata": {},
     "output_type": "execute_result"
    }
   ],
   "source": [
    "X.shape"
   ]
  },
  {
   "cell_type": "code",
   "execution_count": 205,
   "metadata": {},
   "outputs": [
    {
     "data": {
      "text/plain": [
       "(20, 80)"
      ]
     },
     "execution_count": 205,
     "metadata": {},
     "output_type": "execute_result"
    }
   ],
   "source": [
    "X_train = X[:int(0.8*(len(X)))]\n",
    "y_train = y[:int(0.8*(len(X)))]\n",
    "X_test = X[int(0.8*(len(X))):]\n",
    "y_test = y[int(0.8*(len(X))):]\n",
    "len(X_test),len(y_train)"
   ]
  },
  {
   "cell_type": "code",
   "execution_count": 206,
   "metadata": {},
   "outputs": [
    {
     "data": {
      "image/png": "[encoded data removed]",
      "text/plain": [
       "<Figure size 640x480 with 1 Axes>"
      ]
     },
     "metadata": {},
     "output_type": "display_data"
    }
   ],
   "source": [
    "plt.scatter(X_train,y_train,s=2,c='b')\n",
    "plt.scatter(X_test,y_test,s=2,c='g')\n",
    "# plt.plot([-100,100],[0,0],c='black')\n",
    "# plt.plot([0,0],[y.max(),y.min()],c='black')\n",
    "\n",
    "plt.show()"
   ]
  },
  {
   "cell_type": "code",
   "execution_count": 207,
   "metadata": {},
   "outputs": [],
   "source": [
    "class Model(nn.Module):\n",
    "    \"\"\"Some Information about MyModule\"\"\"\n",
    "    def __init__(self):\n",
    "        super(Model, self).__init__()\n",
    "        self.LinearLayer = nn.Linear(in_features=1,out_features=1)\n",
    "\n",
    "    def forward(self, x:torch.Tensor)->torch.Tensor:\n",
    "        out = self.LinearLayer(x)\n",
    "\n",
    "        return out "
   ]
  },
  {
   "cell_type": "code",
   "execution_count": 208,
   "metadata": {},
   "outputs": [
    {
     "data": {
      "text/plain": [
       "(Model(\n",
       "   (LinearLayer): Linear(in_features=1, out_features=1, bias=True)\n",
       " ),\n",
       " OrderedDict([('LinearLayer.weight', tensor([[0.7645]])),\n",
       "              ('LinearLayer.bias', tensor([0.8300]))]))"
      ]
     },
     "execution_count": 208,
     "metadata": {},
     "output_type": "execute_result"
    }
   ],
   "source": [
    "torch.manual_seed(42)\n",
    "\n",
    "model = Model()\n",
    "model,model.state_dict()"
   ]
  },
  {
   "cell_type": "code",
   "execution_count": 209,
   "metadata": {},
   "outputs": [],
   "source": [
    "loss_fn = nn.L1Loss()\n",
    "optimizer = torch.optim.SGD(params=model.parameters(),\n",
    "                            lr=0.01)"
   ]
  },
  {
   "cell_type": "code",
   "execution_count": 210,
   "metadata": {},
   "outputs": [
    {
     "data": {
      "text/plain": [
       "torch.Size([80, 1])"
      ]
     },
     "execution_count": 210,
     "metadata": {},
     "output_type": "execute_result"
    }
   ],
   "source": [
    "X_train.shape"
   ]
  },
  {
   "cell_type": "code",
   "execution_count": 211,
   "metadata": {},
   "outputs": [
    {
     "name": "stdout",
     "output_type": "stream",
     "text": [
      "epoch :0 | loss : 16.62529945373535 | test loss : 16.751447677612305\n",
      "epoch :10 | loss : 11.179636001586914 | test loss : 12.847188949584961\n",
      "epoch :20 | loss : 10.622865676879883 | test loss : 14.27418327331543\n",
      "epoch :30 | loss : 10.920186996459961 | test loss : 13.134176254272461\n",
      "epoch :40 | loss : 10.59786319732666 | test loss : 14.32416820526123\n",
      "epoch :50 | loss : 10.582253456115723 | test loss : 13.14466667175293\n",
      "epoch :60 | loss : 10.547221183776855 | test loss : 13.07091236114502\n",
      "epoch :70 | loss : 10.512189865112305 | test loss : 12.997164726257324\n",
      "epoch :80 | loss : 10.477158546447754 | test loss : 12.92341423034668\n",
      "epoch :90 | loss : 10.442127227783203 | test loss : 12.849665641784668\n",
      "epoch :100 | loss : 10.40735912322998 | test loss : 11.630661010742188\n",
      "epoch :110 | loss : 9.950157165527344 | test loss : 14.676902770996094\n",
      "epoch :120 | loss : 11.517024040222168 | test loss : 9.943641662597656\n",
      "epoch :130 | loss : 9.87297248840332 | test loss : 13.266385078430176\n",
      "epoch :140 | loss : 11.086091995239258 | test loss : 9.678133010864258\n",
      "epoch :150 | loss : 9.55872917175293 | test loss : 14.541125297546387\n",
      "epoch :160 | loss : 11.262402534484863 | test loss : 9.215617179870605\n",
      "epoch :170 | loss : 9.437882423400879 | test loss : 14.197359085083008\n",
      "epoch :180 | loss : 11.142492294311523 | test loss : 8.871854782104492\n",
      "epoch :190 | loss : 9.317036628723145 | test loss : 13.853597640991211\n",
      "epoch :200 | loss : 11.02258014678955 | test loss : 8.528093338012695\n",
      "epoch :210 | loss : 9.19619083404541 | test loss : 13.509831428527832\n",
      "epoch :220 | loss : 10.902668952941895 | test loss : 8.184328079223633\n",
      "epoch :230 | loss : 9.075875282287598 | test loss : 14.508819580078125\n",
      "epoch :240 | loss : 10.782757759094238 | test loss : 7.8405656814575195\n",
      "epoch :250 | loss : 8.955622673034668 | test loss : 14.165059089660645\n",
      "epoch :260 | loss : 10.662847518920898 | test loss : 7.496800899505615\n",
      "epoch :270 | loss : 8.835371017456055 | test loss : 13.821294784545898\n",
      "epoch :280 | loss : 10.94751262664795 | test loss : 6.442781925201416\n",
      "epoch :290 | loss : 8.587737083435059 | test loss : 15.374273300170898\n",
      "epoch :300 | loss : 10.907629013061523 | test loss : 6.297764778137207\n",
      "epoch :310 | loss : 8.493484497070312 | test loss : 15.229252815246582\n",
      "epoch :320 | loss : 11.201420783996582 | test loss : 6.1527419090271\n",
      "epoch :330 | loss : 8.399532318115234 | test loss : 13.662480354309082\n",
      "epoch :340 | loss : 11.1651611328125 | test loss : 6.007718563079834\n",
      "epoch :350 | loss : 8.308904647827148 | test loss : 13.517460823059082\n",
      "epoch :360 | loss : 10.553977966308594 | test loss : 5.270195960998535\n",
      "epoch :370 | loss : 8.139852523803711 | test loss : 14.201681137084961\n",
      "epoch :380 | loss : 11.463309288024902 | test loss : 5.046419620513916\n",
      "epoch :390 | loss : 8.036311149597168 | test loss : 13.977910041809082\n",
      "epoch :400 | loss : 10.782320022583008 | test loss : 4.901401042938232\n",
      "epoch :410 | loss : 7.942059516906738 | test loss : 13.832887649536133\n",
      "epoch :420 | loss : 11.251540184020996 | test loss : 4.401628017425537\n",
      "epoch :430 | loss : 7.874205112457275 | test loss : 12.425371170043945\n",
      "epoch :440 | loss : 9.42853832244873 | test loss : 3.981111526489258\n",
      "epoch :450 | loss : 7.744826316833496 | test loss : 12.004849433898926\n",
      "epoch :460 | loss : 9.280405044555664 | test loss : 3.560588836669922\n",
      "epoch :470 | loss : 7.5341997146606445 | test loss : 15.178082466125488\n",
      "epoch :480 | loss : 12.07107925415039 | test loss : 4.601823329925537\n",
      "epoch :490 | loss : 7.478034019470215 | test loss : 12.506562232971191\n",
      "epoch :500 | loss : 9.371440887451172 | test loss : 1.969302773475647\n"
     ]
    }
   ],
   "source": [
    "torch.manual_seed(42)\n",
    "\n",
    "epochs = 500\n",
    "\n",
    "for epoch in range(epochs+1):\n",
    "    y_preds = model(X_train)\n",
    "    loss = loss_fn(y_preds,y_train)\n",
    "    optimizer.zero_grad()\n",
    "    loss.backward()\n",
    "    optimizer.step()\n",
    "\n",
    "    model.eval()\n",
    "    with torch.inference_mode():\n",
    "        test_pred = model(X_test)\n",
    "\n",
    "        test_loss = loss_fn(test_pred,y_test)\n",
    "\n",
    "        if epoch % 10 == 0:\n",
    "            print(f\"epoch :{epoch } | loss : {loss} | test loss : {test_loss}\")"
   ]
  },
  {
   "cell_type": "code",
   "execution_count": 212,
   "metadata": {},
   "outputs": [],
   "source": [
    "with torch.inference_mode():\n",
    "        test_pred_new = model(X_test)"
   ]
  },
  {
   "cell_type": "code",
   "execution_count": 213,
   "metadata": {},
   "outputs": [
    {
     "data": {
      "image/png": "[encoded data removed]",
      "text/plain": [
       "<Figure size 640x480 with 1 Axes>"
      ]
     },
     "metadata": {},
     "output_type": "display_data"
    }
   ],
   "source": [
    "plt.scatter(X_train,y_train,s=2,c='b')\n",
    "plt.scatter(X_test,y_test,s=2,c='g')\n",
    "plt.scatter(X_test,test_pred_new,s=2,c='red')\n",
    "# plt.plot([-100,100],[0,0],c='black')\n",
    "# plt.plot([0,0],[y.max(),y.min()],c='black')\n",
    "\n",
    "plt.show()"
   ]
  }
 ],
 "metadata": {
  "kernelspec": {
   "display_name": "PyTorchWork",
   "language": "python",
   "name": "pytorchwork"
  },
  "language_info": {
   "codemirror_mode": {
    "name": "ipython",
    "version": 3
   },
   "file_extension": ".py",
   "mimetype": "text/x-python",
   "name": "python",
   "nbconvert_exporter": "python",
   "pygments_lexer": "ipython3",
   "version": "3.9.0"
  }
 },
 "nbformat": 4,
 "nbformat_minor": 2
}
